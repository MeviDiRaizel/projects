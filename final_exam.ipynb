{
  "nbformat": 4,
  "nbformat_minor": 0,
  "metadata": {
    "colab": {
      "provenance": []
    },
    "kernelspec": {
      "name": "python3",
      "display_name": "Python 3"
    },
    "language_info": {
      "name": "python"
    }
  },
  "cells": [
    {
      "cell_type": "code",
      "execution_count": null,
      "metadata": {
        "colab": {
          "base_uri": "https://localhost:8080/"
        },
        "id": "gvNhUZad7mqd",
        "outputId": "25b9c055-56a4-40ee-8ff1-51f75afaf8df"
      },
      "outputs": [
        {
          "output_type": "stream",
          "name": "stdout",
          "text": [
            "Given 3x4 Matrix:\n",
            "[[12 16  9  1]\n",
            " [15 16  8 13]\n",
            " [11  4  9  5]]\n",
            "\n",
            "Coefficient Matrix (A):\n",
            "[[12 16  9]\n",
            " [15 16  8]\n",
            " [11  4  9]]\n",
            "\n",
            "Right-hand Side Vector (b):\n",
            "[ 1 13  5]\n",
            "\n",
            "Solution using Matrix Inverse Method:\n",
            "[ 3.03539823 -0.58628319 -2.89380531]\n",
            "\n",
            "Solution using Gaussian Elimination (NumPy):\n",
            "[ 3.03539823 -0.58628319 -2.89380531]\n",
            "\n",
            "Verification (Ax = b):\n",
            "[ 1. 13.  5.]\n"
          ]
        }
      ],
      "source": [
        "import numpy as np\n",
        "\n",
        "# Step 1: Define the given 3x4 matrix\n",
        "matrix_3x4 = np.array([\n",
        "    [12, 16, 9, 1],\n",
        "    [15, 16, 8, 13],\n",
        "    [11, 4, 9, 5]\n",
        "])\n",
        "\n",
        "# Extract the coefficient matrix (A) and the right-hand side vector (b)\n",
        "A = matrix_3x4[:, :3]  # Coefficient matrix (first 3 columns)\n",
        "b = matrix_3x4[:, 3]   # Right-hand side vector (last column)\n",
        "\n",
        "# Display the matrix, A, and b\n",
        "print(\"Given 3x4 Matrix:\")\n",
        "print(matrix_3x4)\n",
        "print(\"\\nCoefficient Matrix (A):\")\n",
        "print(A)\n",
        "print(\"\\nRight-hand Side Vector (b):\")\n",
        "print(b)\n",
        "\n",
        "# Solve using Matrix Inverse Method\n",
        "try:\n",
        "    A_inv = np.linalg.inv(A)  # Compute A^-1\n",
        "    x_manual = np.dot(A_inv, b)  # x = A^-1 * b\n",
        "    print(\"\\nSolution using Matrix Inverse Method:\")\n",
        "    print(x_manual)\n",
        "except np.linalg.LinAlgError:\n",
        "    print(\"\\nMatrix A is singular and cannot be inverted.\")\n",
        "\n",
        "# Solve using Gaussian Elimination\n",
        "try:\n",
        "    x_gaussian = np.linalg.solve(A, b)\n",
        "    print(\"\\nSolution using Gaussian Elimination (NumPy):\")\n",
        "    print(x_gaussian)\n",
        "except np.linalg.LinAlgError:\n",
        "    print(\"\\nMatrix A is singular or not solvable.\")\n",
        "\n",
        "# Verify the solution\n",
        "try:\n",
        "    b_check = np.dot(A, x_gaussian)\n",
        "    print(\"\\nVerification (Ax = b):\")\n",
        "    print(b_check)\n",
        "except:\n",
        "    print(\"\\nVerification could not be performed.\")\n"
      ]
    }
  ]
}