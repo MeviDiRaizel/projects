{
 "cells": [
  {
   "cell_type": "code",
   "execution_count": 1,
   "metadata": {},
   "outputs": [
    {
     "name": "stdout",
     "output_type": "stream",
     "text": [
      "Matrix A:\n",
      " [[1 2 3]\n",
      " [4 5 6]\n",
      " [7 8 9]]\n",
      "\n",
      "Transpose of Matrix A:\n",
      " [[1 4 7]\n",
      " [2 5 8]\n",
      " [3 6 9]]\n"
     ]
    }
   ],
   "source": [
    "import numpy as np\n",
    "\n",
    "# Create a 3x3 matrix\n",
    "matrix_A = np.array([[1, 2, 3],\n",
    "                     [4, 5, 6],\n",
    "                     [7, 8, 9]])\n",
    "\n",
    "# Find the transpose\n",
    "transpose_A = matrix_A.T\n",
    "\n",
    "print(\"Matrix A:\\n\", matrix_A)\n",
    "print(\"\\nTranspose of Matrix A:\\n\", transpose_A)"
   ]
  },
  {
   "cell_type": "code",
   "execution_count": 17,
   "metadata": {},
   "outputs": [
    {
     "name": "stdout",
     "output_type": "stream",
     "text": [
      "\n",
      "Is Matrix A symmetric?  False\n"
     ]
    }
   ],
   "source": [
    "\n",
    "\n",
    "# Check if the matrix is symmetric\n",
    "is_symmetric = (matrix_A == transpose_A).all()\n",
    "print(\"\\nIs Matrix A symmetric? \", is_symmetric)"
   ]
  },
  {
   "cell_type": "code",
   "execution_count": 3,
   "metadata": {},
   "outputs": [
    {
     "name": "stdout",
     "output_type": "stream",
     "text": [
      "Random Matrix:\n",
      " [[9 2 2 9]\n",
      " [9 2 1 4]\n",
      " [9 2 3 6]\n",
      " [9 2 3 9]]\n",
      "\n",
      "Is the random matrix symmetric?  False\n"
     ]
    }
   ],
   "source": [
    "# Your solution here\n",
    "random_matrix = np.random.randint(1, 10, (4, 4))\n",
    "transpose_random = random_matrix.T\n",
    "\n",
    "# Check symmetry\n",
    "is_symmetric_random = (random_matrix == transpose_random).all()\n",
    "print(\"Random Matrix:\\n\", random_matrix)\n",
    "print(\"\\nIs the random matrix symmetric? \", is_symmetric_random)\n"
   ]
  },
  {
   "cell_type": "code",
   "execution_count": 4,
   "metadata": {},
   "outputs": [
    {
     "name": "stdout",
     "output_type": "stream",
     "text": [
      "\n",
      "Trace of Matrix A: 15\n"
     ]
    }
   ],
   "source": [
    "# Calculate the trace of matrix_A\n",
    "trace_A = np.trace(matrix_A)\n",
    "print(\"\\nTrace of Matrix A:\", trace_A)\n",
    "\n"
   ]
  },
  {
   "cell_type": "code",
   "execution_count": 7,
   "metadata": {},
   "outputs": [
    {
     "name": "stdout",
     "output_type": "stream",
     "text": [
      "\n",
      "Trace of Matrix B: 31\n"
     ]
    }
   ],
   "source": [
    "#Q3\n",
    "matrix_B = np.array([[10, 20, 30],\n",
    "                     [5, 15, 25],\n",
    "                     [2, 4, 6]])\n",
    "\n",
    "trace_B = np.trace(matrix_B)\n",
    "print(\"\\nTrace of Matrix B:\", trace_B)"
   ]
  },
  {
   "cell_type": "code",
   "execution_count": 9,
   "metadata": {},
   "outputs": [
    {
     "name": "stdout",
     "output_type": "stream",
     "text": [
      "\n",
      "Trace of 5x5 Identity Matrix: 5.0\n"
     ]
    }
   ],
   "source": [
    "#practice problem 2\n",
    "identity_matrix = np.eye(5)\n",
    "trace_identity = np.trace(identity_matrix)\n",
    "print(\"\\nTrace of 5x5 Identity Matrix:\", trace_identity)"
   ]
  },
  {
   "cell_type": "code",
   "execution_count": 10,
   "metadata": {},
   "outputs": [
    {
     "name": "stdout",
     "output_type": "stream",
     "text": [
      "\n",
      "Determinant of Matrix A: 6.66133814775094e-16\n"
     ]
    }
   ],
   "source": [
    "# Determinant using NumPy\n",
    "det_A = np.linalg.det(matrix_A)\n",
    "print(\"\\nDeterminant of Matrix A:\", det_A)\n"
   ]
  },
  {
   "cell_type": "code",
   "execution_count": 11,
   "metadata": {},
   "outputs": [
    {
     "name": "stdout",
     "output_type": "stream",
     "text": [
      "Determinant of Matrix C: 14\n"
     ]
    }
   ],
   "source": [
    "# Determinant of a 2x2 matrix using the cofactor method\n",
    "matrix_C = np.array([[4, 6], [3, 8]])\n",
    "det_C = (matrix_C[0, 0] * matrix_C[1, 1]) - (matrix_C[0, 1] * matrix_C[1, 0])\n",
    "print(\"Determinant of Matrix C:\", det_C)\n",
    "\n"
   ]
  },
  {
   "cell_type": "code",
   "execution_count": null,
   "metadata": {},
   "outputs": [
    {
     "name": "stdout",
     "output_type": "stream",
     "text": [
      "Determinant of Matrix D: 22.000000000000004\n"
     ]
    }
   ],
   "source": [
    "#practice problem 3\n",
    "matrix_D = np.array([[1, 2, 3],\n",
    "                     [0, 4, 5],\n",
    "                     [1, 0, 6]])\n",
    "\n",
    "det_D = np.linalg.det(matrix_D)\n",
    "print(\"Determinant of Matrix D:\", det_D)"
   ]
  },
  {
   "cell_type": "code",
   "execution_count": 13,
   "metadata": {},
   "outputs": [
    {
     "name": "stdout",
     "output_type": "stream",
     "text": [
      "Pixel Matrix:\n",
      " [[108  27 213]\n",
      " [193 153  84]\n",
      " [ 32 154  57]]\n",
      "\n",
      "Transpose of Pixel Matrix:\n",
      " [[108 193  32]\n",
      " [ 27 153 154]\n",
      " [213  84  57]]\n",
      "\n",
      "Determinant of Pixel Matrix: 4608266.999999991\n"
     ]
    }
   ],
   "source": [
    "#practice problem 4\n",
    "# Generate a random 3x3 matrix representing pixel intensities\n",
    "pixel_matrix = np.random.randint(0, 256, (3, 3))\n",
    "\n",
    "# Find the transpose of the pixel matrix\n",
    "transpose_pixel_matrix = pixel_matrix.T\n",
    "\n",
    "# Calculate the determinant of the pixel matrix\n",
    "det_pixel_matrix = np.linalg.det(pixel_matrix)\n",
    "\n",
    "print(\"Pixel Matrix:\\n\", pixel_matrix)\n",
    "print(\"\\nTranspose of Pixel Matrix:\\n\", transpose_pixel_matrix)\n",
    "print(\"\\nDeterminant of Pixel Matrix:\", det_pixel_matrix)\n"
   ]
  },
  {
   "cell_type": "code",
   "execution_count": 18,
   "metadata": {},
   "outputs": [
    {
     "name": "stdout",
     "output_type": "stream",
     "text": [
      "Symmetric Matrix:\n",
      " [[2 3 4]\n",
      " [3 5 6]\n",
      " [4 6 8]]\n",
      "\n",
      "Is the matrix symmetric?  True\n"
     ]
    }
   ],
   "source": [
    "#practice problem 5\n",
    "# Create a symmetric 3x3 matrix\n",
    "symmetric_matrix = np.array([[2, 3, 4],\n",
    "                             [3, 5, 6],\n",
    "                             [4, 6, 8]])\n",
    "\n",
    "# Verify if the matrix is symmetric\n",
    "is_symmetric_matrix = (symmetric_matrix == symmetric_matrix.T).all()\n",
    "\n",
    "print(\"Symmetric Matrix:\\n\", symmetric_matrix)\n",
    "print(\"\\nIs the matrix symmetric? \", is_symmetric_matrix)"
   ]
  }
 ],
 "metadata": {
  "kernelspec": {
   "display_name": "base",
   "language": "python",
   "name": "python3"
  },
  "language_info": {
   "codemirror_mode": {
    "name": "ipython",
    "version": 3
   },
   "file_extension": ".py",
   "mimetype": "text/x-python",
   "name": "python",
   "nbconvert_exporter": "python",
   "pygments_lexer": "ipython3",
   "version": "3.12.7"
  }
 },
 "nbformat": 4,
 "nbformat_minor": 2
}
