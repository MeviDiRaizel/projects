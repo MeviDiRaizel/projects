{
 "cells": [
  {
   "cell_type": "code",
   "execution_count": 1,
   "metadata": {},
   "outputs": [],
   "source": [
    "import numpy as np"
   ]
  },
  {
   "cell_type": "code",
   "execution_count": 2,
   "metadata": {},
   "outputs": [
    {
     "name": "stdout",
     "output_type": "stream",
     "text": [
      "Matrix A:\n",
      "[[1 2 3]\n",
      " [4 5 6]]\n"
     ]
    }
   ],
   "source": [
    "# Create a 2x3 matrix\n",
    "A = np.array([[1, 2, 3], [4, 5, 6]])\n",
    "print(\"Matrix A:\")\n",
    "print(A)"
   ]
  },
  {
   "cell_type": "code",
   "execution_count": 3,
   "metadata": {},
   "outputs": [
    {
     "name": "stdout",
     "output_type": "stream",
     "text": [
      "Zero Matrix:\n",
      "[[0. 0. 0.]\n",
      " [0. 0. 0.]\n",
      " [0. 0. 0.]]\n",
      "Identity Matrix:\n",
      "[[1. 0. 0.]\n",
      " [0. 1. 0.]\n",
      " [0. 0. 1.]]\n"
     ]
    }
   ],
   "source": [
    "# 3x3 Zero Matrix\n",
    "zero_matrix = np.zeros((3, 3))\n",
    "print(\"Zero Matrix:\")\n",
    "print(zero_matrix)\n",
    "\n",
    "# 3x3 Identity Matrix\n",
    "identity_matrix = np.eye(3)\n",
    "print(\"Identity Matrix:\")\n",
    "print(identity_matrix)"
   ]
  },
  {
   "cell_type": "code",
   "execution_count": 4,
   "metadata": {},
   "outputs": [
    {
     "name": "stdout",
     "output_type": "stream",
     "text": [
      "B + C:\n",
      "[[ 6  8]\n",
      " [10 12]]\n",
      "B - C:\n",
      "[[-4 -4]\n",
      " [-4 -4]]\n"
     ]
    }
   ],
   "source": [
    "# Define two matrices of the same shape\n",
    "B = np.array([[1, 2], [3, 4]])\n",
    "C = np.array([[5, 6], [7, 8]])\n",
    "\n",
    "# Matrix Addition\n",
    "addition_result = B + C\n",
    "print(\"B + C:\")\n",
    "print(addition_result)\n",
    "\n",
    "# Matrix Subtraction\n",
    "subtraction_result = B - C\n",
    "print(\"B - C:\")\n",
    "print(subtraction_result)"
   ]
  },
  {
   "cell_type": "code",
   "execution_count": null,
   "metadata": {},
   "outputs": [
    {
     "data": {
      "text/plain": [
       "(array([[10, 10, 10],\n",
       "        [10, 10, 10],\n",
       "        [10, 10, 10]]),\n",
       " array([[-8, -6, -4],\n",
       "        [-2,  0,  2],\n",
       "        [ 4,  6,  8]]))"
      ]
     },
     "execution_count": 10,
     "metadata": {},
     "output_type": "execute_result"
    }
   ],
   "source": [
    "#Excercise 1\n",
    "\n",
    "# Defining two 3x3 matrices\n",
    "matrix_a = np.array([[1, 2, 3], [4, 5, 6], [7, 8, 9]])\n",
    "matrix_b = np.array([[9, 8, 7], [6, 5, 4], [3, 2, 1]])\n",
    "\n",
    "# Performing addition and subtraction\n",
    "addition_result = matrix_a + matrix_b\n",
    "subtraction_result = matrix_a - matrix_b\n",
    "\n",
    "# Displaying the results\n",
    "addition_result, subtraction_result"
   ]
  },
  {
   "cell_type": "code",
   "execution_count": 7,
   "metadata": {},
   "outputs": [
    {
     "name": "stdout",
     "output_type": "stream",
     "text": [
      "D * E (Matrix Multiplication):\n",
      "[[ 4  4]\n",
      " [10  8]]\n"
     ]
    }
   ],
   "source": [
    "# Define matrices for multiplication\n",
    "D = np.array([[1, 2], [3, 4]])\n",
    "E = np.array([[2, 0], [1, 2]])\n",
    "\n",
    "# Matrix Multiplication\n",
    "multiplication_result = np.dot(D, E)\n",
    "print(\"D * E (Matrix Multiplication):\")\n",
    "print(multiplication_result)"
   ]
  },
  {
   "cell_type": "code",
   "execution_count": null,
   "metadata": {},
   "outputs": [
    {
     "data": {
      "text/plain": [
       "array([[ 58,  64],\n",
       "       [139, 154]])"
      ]
     },
     "execution_count": 8,
     "metadata": {},
     "output_type": "execute_result"
    }
   ],
   "source": [
    "#Excercise 2\n",
    "\n",
    "# Defining a 2x3 matrix and a 3x2 matrix for multiplication\n",
    "matrix_c = np.array([[1, 2, 3], [4, 5, 6]])  # 2x3 matrix\n",
    "matrix_d = np.array([[7, 8], [9, 10], [11, 12]])  # 3x2 matrix\n",
    "\n",
    "# Performing matrix multiplication\n",
    "multiplication_result = np.dot(matrix_c, matrix_d)\n",
    "\n",
    "# Displaying the result\n",
    "multiplication_result"
   ]
  },
  {
   "cell_type": "code",
   "execution_count": 9,
   "metadata": {},
   "outputs": [
    {
     "name": "stdout",
     "output_type": "stream",
     "text": [
      "D * E (Element-wise Multiplication):\n",
      "[[2 0]\n",
      " [3 8]]\n"
     ]
    }
   ],
   "source": [
    "# Element-wise Multiplication\n",
    "elementwise_result = D * E\n",
    "print(\"D * E (Element-wise Multiplication):\")\n",
    "print(elementwise_result)"
   ]
  },
  {
   "cell_type": "code",
   "execution_count": 12,
   "metadata": {},
   "outputs": [
    {
     "data": {
      "text/plain": [
       "(array([[5, 7, 9],\n",
       "        [2, 4, 6]]),\n",
       " array([[5, 2],\n",
       "        [7, 4],\n",
       "        [9, 6]]))"
      ]
     },
     "execution_count": 12,
     "metadata": {},
     "output_type": "execute_result"
    }
   ],
   "source": [
    "#Excercise 3\n",
    "\n",
    "# Creating a 2x3 matrix\n",
    "matrix_e = np.array([[5, 7, 9], [2, 4, 6]])\n",
    "\n",
    "# Finding the transpose of the matrix\n",
    "transpose_matrix_e = np.transpose(matrix_e)\n",
    "\n",
    "# Displaying the original and transposed matrices\n",
    "matrix_e, transpose_matrix_e"
   ]
  },
  {
   "cell_type": "code",
   "execution_count": 13,
   "metadata": {},
   "outputs": [
    {
     "name": "stdout",
     "output_type": "stream",
     "text": [
      "Determinant of F: -2.0\n"
     ]
    }
   ],
   "source": [
    "# Define a 2x2 square matrix\n",
    "F = np.array([[4, 2], [3, 1]])\n",
    "\n",
    "# Determinant of F\n",
    "determinant_result = np.linalg.det(F)\n",
    "print(\"Determinant of F:\", determinant_result)"
   ]
  },
  {
   "cell_type": "code",
   "execution_count": null,
   "metadata": {},
   "outputs": [
    {
     "data": {
      "text/plain": [
       "194.00000000000003"
      ]
     },
     "execution_count": 15,
     "metadata": {},
     "output_type": "execute_result"
    }
   ],
   "source": [
    "#Excercise 4\n",
    "\n",
    "# Creating a 3x3 matrix\n",
    "matrix_f = np.array([[3, 8, 4], [2, 5, 7], [6, 1, 9]])\n",
    "\n",
    "# Calculating the determinant of the matrix\n",
    "determinant_matrix_f = np.linalg.det(matrix_f)\n",
    "\n",
    "# Displaying the determinant\n",
    "determinant_matrix_f"
   ]
  },
  {
   "cell_type": "code",
   "execution_count": 16,
   "metadata": {},
   "outputs": [
    {
     "name": "stdout",
     "output_type": "stream",
     "text": [
      "Inverse of G:\n",
      "[[ 0.6 -0.7]\n",
      " [-0.2  0.4]]\n"
     ]
    }
   ],
   "source": [
    "# Define an invertible 2x2 matrix\n",
    "G = np.array([[4, 7], [2, 6]])\n",
    "\n",
    "# Inverse of G\n",
    "inverse_result = np.linalg.inv(G)\n",
    "print(\"Inverse of G:\")\n",
    "print(inverse_result)"
   ]
  },
  {
   "cell_type": "code",
   "execution_count": 17,
   "metadata": {},
   "outputs": [
    {
     "data": {
      "text/plain": [
       "array([[ 0.6, -0.7],\n",
       "       [-0.2,  0.4]])"
      ]
     },
     "execution_count": 17,
     "metadata": {},
     "output_type": "execute_result"
    }
   ],
   "source": [
    "#Ecercise 5\n",
    "\n",
    "# Creating an invertible 2x2 matrix\n",
    "matrix_g = np.array([[4, 7], [2, 6]])\n",
    "\n",
    "# Calculating the inverse of the matrix\n",
    "inverse_matrix_g = np.linalg.inv(matrix_g)\n",
    "\n",
    "# Displaying the inverse\n",
    "inverse_matrix_g"
   ]
  },
  {
   "cell_type": "code",
   "execution_count": 18,
   "metadata": {},
   "outputs": [
    {
     "name": "stdout",
     "output_type": "stream",
     "text": [
      "Random 10x10 Matrix A:\n",
      "[[0.16473724 0.47909095 0.74200837 0.25485524 0.19285782 0.4677832\n",
      "  0.10349667 0.05606216 0.3879972  0.56635452]\n",
      " [0.87265118 0.92100396 0.10063558 0.58357116 0.97537555 0.12750453\n",
      "  0.6340491  0.91450507 0.94894154 0.59076357]\n",
      " [0.66529098 0.48963655 0.14706056 0.43856323 0.10065697 0.62673385\n",
      "  0.08053164 0.50527499 0.08461131 0.41832202]\n",
      " [0.68303657 0.37229699 0.47275049 0.30019481 0.5237802  0.34916938\n",
      "  0.69341173 0.52589523 0.17616192 0.29636979]\n",
      " [0.14269761 0.21675181 0.1686948  0.96658397 0.98462893 0.20516593\n",
      "  0.59605261 0.0044587  0.44745584 0.43592138]\n",
      " [0.86798994 0.15213717 0.67317413 0.19457566 0.71081822 0.90858517\n",
      "  0.44532987 0.6258044  0.7938398  0.99910498]\n",
      " [0.8046132  0.52517616 0.00479276 0.91313595 0.81155257 0.93301225\n",
      "  0.31850308 0.93276487 0.35575364 0.45560078]\n",
      " [0.44991784 0.30583921 0.70639816 0.49716658 0.94336065 0.27218664\n",
      "  0.14034871 0.07071748 0.70620103 0.3915482 ]\n",
      " [0.2685971  0.05834154 0.95869109 0.77478558 0.10854053 0.26096872\n",
      "  0.05347978 0.30485866 0.34474733 0.48179196]\n",
      " [0.58210949 0.88621069 0.19508567 0.40977798 0.33156165 0.37624052\n",
      "  0.77153792 0.9609302  0.72270036 0.70963647]]\n"
     ]
    }
   ],
   "source": [
    "# Generate a random 10x10 matrix\n",
    "random_matrix_A = np.random.rand(10, 10)\n",
    "print(\"Random 10x10 Matrix A:\")\n",
    "print(random_matrix_A)\n"
   ]
  },
  {
   "cell_type": "code",
   "execution_count": 19,
   "metadata": {},
   "outputs": [
    {
     "name": "stdout",
     "output_type": "stream",
     "text": [
      "\n",
      "Random 10x10 Matrix B:\n",
      "[[0.81839336 0.38315099 0.93361056 0.33822034 0.38868174 0.92293088\n",
      "  0.64051625 0.36148558 0.57142695 0.94679865]\n",
      " [0.83803787 0.63139845 0.39983108 0.81653248 0.55376572 0.84225501\n",
      "  0.21156812 0.16686033 0.43171285 0.0048368 ]\n",
      " [0.4012116  0.9522052  0.50016393 0.26718603 0.33981193 0.12673036\n",
      "  0.55476327 0.25328853 0.30657089 0.59959976]\n",
      " [0.06947937 0.32989775 0.84838136 0.81195197 0.09605766 0.57735159\n",
      "  0.52524411 0.04587156 0.9042548  0.11226005]\n",
      " [0.7727518  0.11510149 0.67655888 0.69872599 0.57542176 0.00788183\n",
      "  0.82686783 0.51096436 0.14693818 0.14539269]\n",
      " [0.53769151 0.81708173 0.45093095 0.57288393 0.26367714 0.10586351\n",
      "  0.58124821 0.0383208  0.18986096 0.30772468]\n",
      " [0.66482937 0.73373558 0.41317304 0.05328999 0.82913479 0.79489797\n",
      "  0.2204548  0.15360339 0.60065165 0.03216536]\n",
      " [0.81245045 0.03210449 0.63531399 0.51312414 0.70815037 0.86957271\n",
      "  0.80370363 0.42373459 0.65282037 0.05582441]\n",
      " [0.85870714 0.61360966 0.94319419 0.78343318 0.27765791 0.15988096\n",
      "  0.11668108 0.70426056 0.99668864 0.17980064]\n",
      " [0.66150365 0.47974344 0.45410936 0.24209114 0.66750588 0.76777585\n",
      "  0.55766919 0.92952243 0.16340956 0.25367567]]\n"
     ]
    }
   ],
   "source": [
    "# Generate a second random 10x10 matrix\n",
    "random_matrix_B = np.random.rand(10, 10)\n",
    "print(\"\\nRandom 10x10 Matrix B:\")\n",
    "print(random_matrix_B)"
   ]
  },
  {
   "cell_type": "code",
   "execution_count": 20,
   "metadata": {},
   "outputs": [
    {
     "name": "stdout",
     "output_type": "stream",
     "text": [
      "\n",
      "A + B (Matrix Addition):\n",
      "[[0.9831306  0.86224194 1.67561893 0.59307558 0.58153956 1.39071409\n",
      "  0.74401292 0.41754774 0.95942415 1.51315317]\n",
      " [1.71068905 1.55240241 0.50046666 1.40010364 1.52914128 0.96975954\n",
      "  0.84561722 1.0813654  1.38065439 0.59560037]\n",
      " [1.06650258 1.44184175 0.64722449 0.70574927 0.4404689  0.75346421\n",
      "  0.63529491 0.75856352 0.3911822  1.01792178]\n",
      " [0.75251594 0.70219474 1.32113184 1.11214678 0.61983785 0.92652097\n",
      "  1.21865583 0.57176679 1.08041672 0.40862984]\n",
      " [0.91544941 0.3318533  0.84525367 1.66530996 1.5600507  0.21304775\n",
      "  1.42292044 0.51542306 0.59439402 0.58131407]\n",
      " [1.40568145 0.9692189  1.12410508 0.76745959 0.97449536 1.01444868\n",
      "  1.02657809 0.6641252  0.98370076 1.30682966]\n",
      " [1.46944258 1.25891174 0.4179658  0.96642595 1.64068735 1.72791022\n",
      "  0.53895787 1.08636826 0.95640529 0.48776614]\n",
      " [1.26236829 0.3379437  1.34171215 1.01029072 1.65151102 1.14175934\n",
      "  0.94405235 0.49445207 1.3590214  0.44737261]\n",
      " [1.12730425 0.6719512  1.90188529 1.55821876 0.38619845 0.42084968\n",
      "  0.17016086 1.00911922 1.34143598 0.6615926 ]\n",
      " [1.24361314 1.36595412 0.64919503 0.65186912 0.99906754 1.14401637\n",
      "  1.32920711 1.89045263 0.88610991 0.96331214]]\n"
     ]
    }
   ],
   "source": [
    "# Matrix Addition\n",
    "addition_result = random_matrix_A + random_matrix_B\n",
    "print(\"\\nA + B (Matrix Addition):\")\n",
    "print(addition_result)\n",
    "\n"
   ]
  },
  {
   "cell_type": "code",
   "execution_count": 21,
   "metadata": {},
   "outputs": [
    {
     "name": "stdout",
     "output_type": "stream",
     "text": [
      "\n",
      "A - B (Matrix Subtraction):\n",
      "[[-0.65365611  0.09593996 -0.1916022  -0.0833651  -0.19582392 -0.45514768\n",
      "  -0.53701959 -0.30542342 -0.18342975 -0.38044413]\n",
      " [ 0.03461331  0.28960551 -0.29919551 -0.23296133  0.42160983 -0.71475048\n",
      "   0.42248098  0.74764473  0.51722869  0.58592677]\n",
      " [ 0.26407937 -0.46256865 -0.35310337  0.1713772  -0.23915496  0.50000349\n",
      "  -0.47423163  0.25198646 -0.22195958 -0.18127774]\n",
      " [ 0.6135572   0.04239924 -0.37563087 -0.51175715  0.42772254 -0.22818221\n",
      "   0.16816762  0.48002366 -0.72809288  0.18410975]\n",
      " [-0.63005418  0.10165031 -0.50786408  0.26785798  0.40920717  0.1972841\n",
      "  -0.23081521 -0.50650567  0.30051767  0.29052869]\n",
      " [ 0.33029843 -0.66494457  0.22224318 -0.37830827  0.44714108  0.80272166\n",
      "  -0.13591834  0.58748359  0.60397883  0.6913803 ]\n",
      " [ 0.13978383 -0.20855942 -0.40838028  0.85984596 -0.01758222  0.13811428\n",
      "   0.09804828  0.77916149 -0.24489802  0.42343542]\n",
      " [-0.3625326   0.27373472  0.07108417 -0.01595756  0.23521028 -0.59738607\n",
      "  -0.66335492 -0.3530171   0.05338066  0.33572379]\n",
      " [-0.59011004 -0.55526812  0.0154969  -0.0086476  -0.16911738  0.10108776\n",
      "  -0.06320131 -0.3994019  -0.65194131  0.30199132]\n",
      " [-0.07939416  0.40646725 -0.25902369  0.16768685 -0.33594423 -0.39153532\n",
      "   0.21386873  0.03140778  0.5592908   0.4559608 ]]\n"
     ]
    }
   ],
   "source": [
    "# Matrix Subtraction\n",
    "subtraction_result = random_matrix_A - random_matrix_B\n",
    "print(\"\\nA - B (Matrix Subtraction):\")\n",
    "print(subtraction_result)"
   ]
  },
  {
   "cell_type": "code",
   "execution_count": 22,
   "metadata": {},
   "outputs": [
    {
     "name": "stdout",
     "output_type": "stream",
     "text": [
      "\n",
      "A * B (Matrix Multiplication):\n",
      "[[2.07445696 2.14817498 1.97563644 1.73019702 1.45156551 1.47566126\n",
      "  1.61272763 1.2949368  1.45407332 1.02368807]\n",
      " [4.7593914  2.7809497  4.45205955 3.69195775 3.36546855 3.85650674\n",
      "  3.31171139 2.72698683 3.64252849 1.52950999]\n",
      " [2.27247808 1.70037014 2.23728253 1.88070097 1.57231395 2.20349331\n",
      "  1.95617843 1.12990995 1.69790184 1.12930003]\n",
      " [2.90960488 2.16749131 2.71084473 1.98763893 2.24867994 2.4824932\n",
      "  2.33361434 1.45245226 2.09449423 1.30777909]\n",
      " [2.37695157 1.87318882 2.75206937 2.35079882 1.85892558 1.80708589\n",
      "  2.10224212 1.49955921 2.16264209 0.76256153]\n",
      " [4.3063737  3.27129226 4.04761368 2.98146847 3.01738314 3.02085453\n",
      "  3.43059979 2.73794446 2.85144557 2.07640842]\n",
      " [3.86922131 2.50195546 3.97468183 3.42982695 2.73341815 3.28887282\n",
      "  3.43758119 1.99021857 3.03933296 1.51668937]\n",
      " [2.83400148 2.2595476  3.02521674 2.50121377 1.87052659 1.67223598\n",
      "  2.33267676 1.82067953 2.14386135 1.36250907]\n",
      " [1.82935728 2.02565078 2.36174842 1.79506952 1.34572167 1.62697103\n",
      "  1.93033036 1.27867804 1.89215312 1.21542893]\n",
      " [4.16799492 2.82997116 3.67017086 3.02473406 3.107199   3.6966953\n",
      "  2.79911134 2.30462432 3.1927343  1.2708067 ]]\n"
     ]
    }
   ],
   "source": [
    "# Matrix Multiplication\n",
    "multiplication_result = np.dot(random_matrix_A, random_matrix_B)\n",
    "print(\"\\nA * B (Matrix Multiplication):\")\n",
    "print(multiplication_result)"
   ]
  },
  {
   "cell_type": "code",
   "execution_count": 23,
   "metadata": {},
   "outputs": [
    {
     "name": "stdout",
     "output_type": "stream",
     "text": [
      "\n",
      "Transpose of Matrix A:\n",
      "[[0.16473724 0.87265118 0.66529098 0.68303657 0.14269761 0.86798994\n",
      "  0.8046132  0.44991784 0.2685971  0.58210949]\n",
      " [0.47909095 0.92100396 0.48963655 0.37229699 0.21675181 0.15213717\n",
      "  0.52517616 0.30583921 0.05834154 0.88621069]\n",
      " [0.74200837 0.10063558 0.14706056 0.47275049 0.1686948  0.67317413\n",
      "  0.00479276 0.70639816 0.95869109 0.19508567]\n",
      " [0.25485524 0.58357116 0.43856323 0.30019481 0.96658397 0.19457566\n",
      "  0.91313595 0.49716658 0.77478558 0.40977798]\n",
      " [0.19285782 0.97537555 0.10065697 0.5237802  0.98462893 0.71081822\n",
      "  0.81155257 0.94336065 0.10854053 0.33156165]\n",
      " [0.4677832  0.12750453 0.62673385 0.34916938 0.20516593 0.90858517\n",
      "  0.93301225 0.27218664 0.26096872 0.37624052]\n",
      " [0.10349667 0.6340491  0.08053164 0.69341173 0.59605261 0.44532987\n",
      "  0.31850308 0.14034871 0.05347978 0.77153792]\n",
      " [0.05606216 0.91450507 0.50527499 0.52589523 0.0044587  0.6258044\n",
      "  0.93276487 0.07071748 0.30485866 0.9609302 ]\n",
      " [0.3879972  0.94894154 0.08461131 0.17616192 0.44745584 0.7938398\n",
      "  0.35575364 0.70620103 0.34474733 0.72270036]\n",
      " [0.56635452 0.59076357 0.41832202 0.29636979 0.43592138 0.99910498\n",
      "  0.45560078 0.3915482  0.48179196 0.70963647]]\n",
      "\n",
      "Transpose of Matrix B:\n",
      "[[0.81839336 0.83803787 0.4012116  0.06947937 0.7727518  0.53769151\n",
      "  0.66482937 0.81245045 0.85870714 0.66150365]\n",
      " [0.38315099 0.63139845 0.9522052  0.32989775 0.11510149 0.81708173\n",
      "  0.73373558 0.03210449 0.61360966 0.47974344]\n",
      " [0.93361056 0.39983108 0.50016393 0.84838136 0.67655888 0.45093095\n",
      "  0.41317304 0.63531399 0.94319419 0.45410936]\n",
      " [0.33822034 0.81653248 0.26718603 0.81195197 0.69872599 0.57288393\n",
      "  0.05328999 0.51312414 0.78343318 0.24209114]\n",
      " [0.38868174 0.55376572 0.33981193 0.09605766 0.57542176 0.26367714\n",
      "  0.82913479 0.70815037 0.27765791 0.66750588]\n",
      " [0.92293088 0.84225501 0.12673036 0.57735159 0.00788183 0.10586351\n",
      "  0.79489797 0.86957271 0.15988096 0.76777585]\n",
      " [0.64051625 0.21156812 0.55476327 0.52524411 0.82686783 0.58124821\n",
      "  0.2204548  0.80370363 0.11668108 0.55766919]\n",
      " [0.36148558 0.16686033 0.25328853 0.04587156 0.51096436 0.0383208\n",
      "  0.15360339 0.42373459 0.70426056 0.92952243]\n",
      " [0.57142695 0.43171285 0.30657089 0.9042548  0.14693818 0.18986096\n",
      "  0.60065165 0.65282037 0.99668864 0.16340956]\n",
      " [0.94679865 0.0048368  0.59959976 0.11226005 0.14539269 0.30772468\n",
      "  0.03216536 0.05582441 0.17980064 0.25367567]]\n"
     ]
    }
   ],
   "source": [
    "# Transpose of random_matrix_A\n",
    "transpose_result_A = random_matrix_A.T\n",
    "print(\"\\nTranspose of Matrix A:\")\n",
    "print(transpose_result_A)\n",
    "\n",
    "# Transpose of random_matrix_B\n",
    "transpose_result_B = random_matrix_B.T\n",
    "print(\"\\nTranspose of Matrix B:\")\n",
    "print(transpose_result_B)"
   ]
  },
  {
   "cell_type": "code",
   "execution_count": null,
   "metadata": {},
   "outputs": [
    {
     "data": {
      "text/plain": [
       "array([[692, 611],\n",
       "       [581, 477],\n",
       "       [605, 498]])"
      ]
     },
     "execution_count": 25,
     "metadata": {},
     "output_type": "execute_result"
    }
   ],
   "source": [
    "# 1. Matrix Creation and Structure\n",
    "# Question: Explain what a matrix is and provide an example of a 3×23 \\times 23×2 matrix. Using NumPy, write code to create this matrix.\n",
    "\n",
    "# matrix, a set of numbers arranged in rows and columns so as to form a rectangular array used for solving systems of linear equations and representing geometric transformations. (britannica)\n",
    "\n",
    "# Creating a 3x23 matrix\n",
    "matrix_a = np.random.randint(1, 10, size=(3, 23))\n",
    "\n",
    "# Creating a 23x2 matrix\n",
    "matrix_b = np.random.randint(1, 10, size=(23, 2))\n",
    "\n",
    "# Multiplying the matrices\n",
    "result_matrix = np.dot(matrix_a, matrix_b)\n",
    "\n",
    "# Displaying the result\n",
    "result_matrix\n"
   ]
  },
  {
   "cell_type": "code",
   "execution_count": 26,
   "metadata": {},
   "outputs": [
    {
     "data": {
      "text/plain": [
       "(array([[11,  9,  9,  7,  3],\n",
       "        [16,  5,  7,  4,  4],\n",
       "        [12,  8, 11, 13, 14],\n",
       "        [ 7,  9, 14, 12,  6],\n",
       "        [ 2,  3, 12, 14, 13]]),\n",
       " array([[126,  64,  71, 132,  96],\n",
       "        [ 64,  39,  52,  88,  68],\n",
       "        [146,  70, 145, 190, 172],\n",
       "        [141,  64,  95, 149, 118],\n",
       "        [ 61,  35,  98, 112,  95]]))"
      ]
     },
     "execution_count": 26,
     "metadata": {},
     "output_type": "execute_result"
    }
   ],
   "source": [
    "# 2. Basic Matrix Operations\n",
    "# Question: Given two matrices A and B, describe the conditions necessary for performing matrix addition and matrix multiplication. \n",
    "# Write code to add and multiply two 5×5 matrices using NumPy.\n",
    "\n",
    "# Conditions for Matrix Addition:\n",
    "# They should have the same dimensions so matrices A and B should have the same number of rows and columns.\n",
    "\n",
    "# Conditions for Matrix Multiplication:\n",
    "# The number of columns in matrix A should be equal to the number of rows in matrix B.\n",
    "\n",
    "# Creating two 5x5 matrices with random integers\n",
    "matrix_a = np.random.randint(1, 10, size=(5, 5))\n",
    "matrix_b = np.random.randint(1, 10, size=(5, 5))\n",
    "\n",
    "# Performing matrix addition\n",
    "addition_result = matrix_a + matrix_b\n",
    "\n",
    "# Performing matrix multiplication\n",
    "multiplication_result = np.dot(matrix_a, matrix_b)\n",
    "\n",
    "# Displaying the results\n",
    "addition_result, multiplication_result\n"
   ]
  },
  {
   "cell_type": "code",
   "execution_count": 28,
   "metadata": {},
   "outputs": [
    {
     "data": {
      "text/plain": [
       "(array([[1, 2],\n",
       "        [3, 4],\n",
       "        [5, 6]]),\n",
       " array([[1, 3, 5],\n",
       "        [2, 4, 6]]))"
      ]
     },
     "execution_count": 28,
     "metadata": {},
     "output_type": "execute_result"
    }
   ],
   "source": [
    "# 3. Transpose of a Matrix\n",
    "# Question: Explain the concept of matrix transposition. What effect does it have on a 3×2 matrix? Write code to create a 3×2 matrix and find its transpose.\n",
    "\n",
    "#matrix transposition is where interchanging its rows into columns or columns into rows.\n",
    "\n",
    "# Creating a 3x2 matrix\n",
    "matrix = np.array([[1, 2], [3, 4], [5, 6]])\n",
    "\n",
    "# Finding the transpose of the matrix\n",
    "transpose_matrix = np.transpose(matrix)\n",
    "\n",
    "# Displaying the original and transposed matrices\n",
    "matrix, transpose_matrix"
   ]
  },
  {
   "cell_type": "code",
   "execution_count": 34,
   "metadata": {},
   "outputs": [
    {
     "data": {
      "text/plain": [
       "(117,\n",
       " array([[7, 1, 6, 2, 3],\n",
       "        [6, 6, 8, 2, 7],\n",
       "        [5, 1, 5, 8, 6],\n",
       "        [3, 6, 8, 7, 1],\n",
       "        [7, 1, 3, 5, 3]]))"
      ]
     },
     "execution_count": 34,
     "metadata": {},
     "output_type": "execute_result"
    }
   ],
   "source": [
    "# 4. Working with Large Matrices\n",
    "# Question: Create a random 5×5 matrix using NumPy. Compute the sum of all elements in the matrix, then find its transpose. Print both the sum and the transpose of the matrix.\n",
    "\n",
    "# Creating a random 5x5 matrix\n",
    "large_matrix = np.random.randint(1, 10, size=(5, 5))\n",
    "\n",
    "# Computing the sum of all elements in the matrix\n",
    "matrix_sum = np.sum(large_matrix)\n",
    "\n",
    "# Finding the transpose of the matrix\n",
    "matrix_transpose = np.transpose(large_matrix)\n",
    "\n",
    "# Displaying the results\n",
    "matrix_sum, matrix_transpose"
   ]
  },
  {
   "cell_type": "code",
   "execution_count": null,
   "metadata": {},
   "outputs": [
    {
     "data": {
      "text/plain": [
       "(array([[ 9,  3, 12,  9,  6,  3,  7, 17, 11, 10],\n",
       "        [ 9,  6,  6,  3, 11,  6,  7,  3, 10,  9],\n",
       "        [12,  5, 11, 14,  7,  9,  6, 12, 16, 11],\n",
       "        [ 6, 12,  7, 14, 12, 14, 10, 13, 10, 17],\n",
       "        [14, 10, 10, 12, 11,  4, 18, 12, 10,  5],\n",
       "        [13,  8,  8, 16,  8,  8,  9, 15, 16,  3],\n",
       "        [ 9, 12, 13, 16, 12,  6,  8, 13, 10, 15],\n",
       "        [ 6, 10, 15,  9, 13,  5,  8, 11, 13, 11],\n",
       "        [14,  6, 13,  8, 17, 11,  9,  4,  3,  9],\n",
       "        [ 7, 11, 16, 15, 12, 13, 12,  6, 12, 12]]),\n",
       " array([[-1, -1,  0,  3,  2, -1, -1, -1, -1,  8],\n",
       "        [-5,  4, -2,  1,  3,  0,  1, -1,  2,  1],\n",
       "        [-4,  3, -1,  2, -3, -1, -4,  2,  0,  3],\n",
       "        [-2,  0,  1,  2,  4,  2, -8, -1, -2,  1],\n",
       "        [-4, -8, -8,  6,  7,  0,  0,  6,  2,  1],\n",
       "        [-5, -4, -6,  2,  0,  4, -5,  3,  0, -1],\n",
       "        [-7, -4, -3,  2,  4,  0,  4,  3, -8, -1],\n",
       "        [ 4, -6, -3,  7, -5, -1,  2,  7, -3,  5],\n",
       "        [-2, -4, -1, -2, -1,  1, -1,  2, -1,  5],\n",
       "        [-1,  1,  2, -3, -6,  5,  2, -2, -6,  4]]),\n",
       " array([[252, 251, 319, 239, 288, 181, 246, 200, 318, 184],\n",
       "        [260, 199, 252, 181, 192, 126, 201, 139, 213, 133],\n",
       "        [281, 246, 316, 245, 303, 197, 269, 210, 312, 189],\n",
       "        [342, 303, 365, 278, 303, 199, 331, 235, 358, 208],\n",
       "        [316, 348, 378, 246, 279, 190, 294, 235, 340, 230],\n",
       "        [261, 270, 303, 200, 259, 170, 262, 196, 273, 171],\n",
       "        [300, 307, 348, 254, 275, 190, 291, 222, 355, 233],\n",
       "        [294, 291, 360, 268, 314, 205, 280, 239, 365, 222],\n",
       "        [294, 241, 314, 238, 213, 145, 255, 222, 311, 157],\n",
       "        [375, 265, 355, 315, 286, 203, 294, 263, 391, 235]]))"
      ]
     },
     "execution_count": 36,
     "metadata": {},
     "output_type": "execute_result"
    }
   ],
   "source": [
    "# 5. Applying Matrix Operations in Context\n",
    "# Question: Suppose you have two random 10×10 matrices D and E. Write code to (a) add the matrices, (b) subtract E from D, and (c) multiply D and E using matrix multiplication. Print each result and describe one possible application of each operation in computer science.\n",
    "\n",
    "# Creating two random 10x10 matrices\n",
    "matrix_d = np.random.randint(1, 10, size=(10, 10))\n",
    "matrix_e = np.random.randint(1, 10, size=(10, 10))\n",
    "\n",
    "# Performing (a) addition of matrices\n",
    "addition_result = matrix_d + matrix_e\n",
    "\n",
    "# Performing (b) subtraction of E from D\n",
    "subtraction_result = matrix_d - matrix_e\n",
    "\n",
    "# Performing (c) matrix multiplication of D and E\n",
    "multiplication_result = np.dot(matrix_d, matrix_e)\n",
    "\n",
    "# Displaying the results\n",
    "addition_result, subtraction_result, multiplication_result"
   ]
  }
 ],
 "metadata": {
  "kernelspec": {
   "display_name": "base",
   "language": "python",
   "name": "python3"
  },
  "language_info": {
   "codemirror_mode": {
    "name": "ipython",
    "version": 3
   },
   "file_extension": ".py",
   "mimetype": "text/x-python",
   "name": "python",
   "nbconvert_exporter": "python",
   "pygments_lexer": "ipython3",
   "version": "3.12.7"
  }
 },
 "nbformat": 4,
 "nbformat_minor": 2
}
