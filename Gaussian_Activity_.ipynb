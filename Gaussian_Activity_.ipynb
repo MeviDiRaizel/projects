{
  "nbformat": 4,
  "nbformat_minor": 0,
  "metadata": {
    "colab": {
      "provenance": []
    },
    "kernelspec": {
      "name": "python3",
      "display_name": "Python 3"
    },
    "language_info": {
      "name": "python"
    }
  },
  "cells": [
    {
      "cell_type": "markdown",
      "source": [
        "1.Use Naïve Gauss elimination to solve"
      ],
      "metadata": {
        "id": "asHfA42nvmQ_"
      }
    },
    {
      "cell_type": "code",
      "execution_count": 2,
      "metadata": {
        "colab": {
          "base_uri": "https://localhost:8080/"
        },
        "id": "iwC764iXtBpN",
        "outputId": "6468fefa-53e9-4822-ec7c-0f2c8a1404a7"
      },
      "outputs": [
        {
          "output_type": "execute_result",
          "data": {
            "text/plain": [
              "array([  3., -13.,   1.])"
            ]
          },
          "metadata": {},
          "execution_count": 2
        }
      ],
      "source": [
        "import numpy as np\n",
        "\n",
        "# Step 1: Define the augmented matrix for the system\n",
        "A = np.array([\n",
        "    [4, 1, -1, -2],\n",
        "    [5, 1, 2, 4],\n",
        "    [6, 1, 1, 6]\n",
        "], dtype=float)\n",
        "\n",
        "# Function to perform Naïve Gauss Elimination\n",
        "def gauss_elimination(A):\n",
        "    n = len(A)\n",
        "\n",
        "    # Forward Elimination\n",
        "    for i in range(n-1):\n",
        "        for j in range(i+1, n):\n",
        "            if A[i][i] == 0:\n",
        "                raise ValueError(\"Mathematical Error: Division by zero detected!\")\n",
        "            factor = A[j][i] / A[i][i]\n",
        "            for k in range(n+1):\n",
        "                A[j][k] -= factor * A[i][k]\n",
        "\n",
        "    # Back Substitution\n",
        "    x = np.zeros(n)\n",
        "    for i in range(n-1, -1, -1):\n",
        "        x[i] = A[i][-1]\n",
        "        for j in range(i+1, n):\n",
        "            x[i] -= A[i][j] * x[j]\n",
        "        x[i] /= A[i][i]\n",
        "\n",
        "    return x\n",
        "\n",
        "# Solve the system\n",
        "solution = gauss_elimination(A)\n",
        "solution\n"
      ]
    },
    {
      "cell_type": "markdown",
      "source": [
        "2. Assume that you are using a computer with four significant digits with chopping.\n",
        "Use Naïve Gauss elimination method to solve"
      ],
      "metadata": {
        "id": "uE7xQBdJvpgD"
      }
    },
    {
      "cell_type": "code",
      "source": [
        "# Reinitialize the augmented matrix with 4 significant digits\n",
        "A = np.array([\n",
        "    [4, 1, -1, -2],\n",
        "    [5, 1, 2, 4],\n",
        "    [6, 1, 1, 6]\n",
        "], dtype=float)\n",
        "\n",
        "def gauss_elimination_chop(A, significant_digits=4):\n",
        "    n = len(A)\n",
        "\n",
        "    # Function to chop numbers to significant digits\n",
        "    chop = lambda x: float(f\"{x:.{significant_digits}g}\")\n",
        "\n",
        "    # Forward Elimination\n",
        "    for i in range(n-1):\n",
        "        for j in range(i+1, n):\n",
        "            if A[i][i] == 0:\n",
        "                raise ValueError(\"Mathematical Error: Division by zero detected!\")\n",
        "            factor = chop(A[j][i] / A[i][i])\n",
        "            for k in range(n+1):\n",
        "                A[j][k] = chop(A[j][k] - chop(factor * A[i][k]))\n",
        "\n",
        "    # Back Substitution\n",
        "    x = np.zeros(n)\n",
        "    for i in range(n-1, -1, -1):\n",
        "        x[i] = chop(A[i][-1])\n",
        "        for j in range(i+1, n):\n",
        "            x[i] = chop(x[i] - chop(A[i][j] * x[j]))\n",
        "        x[i] = chop(x[i] / A[i][i])\n",
        "\n",
        "    return x\n",
        "\n",
        "# Solve the system with 4 significant digits and chopping\n",
        "solution_chopped = gauss_elimination_chop(A)\n",
        "solution_chopped\n"
      ],
      "metadata": {
        "colab": {
          "base_uri": "https://localhost:8080/"
        },
        "id": "q3S5PbhZu-i4",
        "outputId": "92edbf12-a843-416c-9ed5-69433cd2f939"
      },
      "execution_count": 3,
      "outputs": [
        {
          "output_type": "execute_result",
          "data": {
            "text/plain": [
              "array([  3., -13.,   1.])"
            ]
          },
          "metadata": {},
          "execution_count": 3
        }
      ]
    },
    {
      "cell_type": "markdown",
      "source": [
        "3. Find the determinant of [A] using forward elimination step of naïve Gauss\n",
        "elimination method."
      ],
      "metadata": {
        "id": "fVUJuZE5vsH9"
      }
    },
    {
      "cell_type": "code",
      "source": [
        "# Define the matrix A\n",
        "A = np.array([\n",
        "    [10, -7, 0],\n",
        "    [-3, 2.099, 6],\n",
        "    [5, -1, 5]\n",
        "], dtype=float)\n",
        "\n",
        "def determinant_via_gauss_elimination(A):\n",
        "    n = len(A)\n",
        "    det = 1\n",
        "    for i in range(n):\n",
        "        # If diagonal element is zero, determinant is zero\n",
        "        if A[i][i] == 0:\n",
        "            return 0\n",
        "        for j in range(i+1, n):\n",
        "            factor = A[j][i] / A[i][i]\n",
        "            A[j] = A[j] - factor * A[i]\n",
        "        det *= A[i][i]  # Multiply diagonal element to determinant\n",
        "\n",
        "    return det\n",
        "\n",
        "# Calculate the determinant\n",
        "determinant = determinant_via_gauss_elimination(A)\n",
        "determinant\n"
      ],
      "metadata": {
        "colab": {
          "base_uri": "https://localhost:8080/"
        },
        "id": "ow7QwzxcvFBw",
        "outputId": "945df459-9093-4a8e-cd13-3f2659958c1d"
      },
      "execution_count": 4,
      "outputs": [
        {
          "output_type": "execute_result",
          "data": {
            "text/plain": [
              "-150.04999999999998"
            ]
          },
          "metadata": {},
          "execution_count": 4
        }
      ]
    },
    {
      "cell_type": "code",
      "source": [
        "# Diagonal elements of the upper triangular matrix\n",
        "diag_elements = [25, -4.8, 0.7]\n",
        "\n",
        "# Compute the determinant as the product of diagonal elements\n",
        "determinant = np.prod(diag_elements)\n",
        "determinant\n"
      ],
      "metadata": {
        "id": "c1cn29ZNvjVd"
      },
      "execution_count": null,
      "outputs": []
    },
    {
      "cell_type": "markdown",
      "source": [
        "5. Using Gaussian elimination with partial pivoting to solve"
      ],
      "metadata": {
        "id": "gcF3hDaKv2UM"
      }
    },
    {
      "cell_type": "code",
      "source": [
        "# Reinitialize the augmented matrix\n",
        "A = np.array([\n",
        "    [4, 1, -1, -2],\n",
        "    [5, 1, 2, 4],\n",
        "    [6, 1, 1, 6]\n",
        "], dtype=float)\n",
        "\n",
        "def gauss_elimination_partial_pivoting(A):\n",
        "    n = len(A)\n",
        "\n",
        "    # Forward elimination with partial pivoting\n",
        "    for i in range(n):\n",
        "        # Partial Pivoting: Find the maximum element in the current column\n",
        "        max_row = np.argmax(np.abs(A[i:n, i])) + i\n",
        "        if i != max_row:\n",
        "            A[[i, max_row]] = A[[max_row, i]]  # Swap rows\n",
        "\n",
        "        for j in range(i+1, n):\n",
        "            factor = A[j][i] / A[i][i]\n",
        "            A[j] = A[j] - factor * A[i]\n",
        "\n",
        "    # Back Substitution\n",
        "    x = np.zeros(n)\n",
        "    for i in range(n-1, -1, -1):\n",
        "        x[i] = A[i][-1]\n",
        "        for j in range(i+1, n):\n",
        "            x[i] -= A[i][j] * x[j]\n",
        "        x[i] /= A[i][i]\n",
        "\n",
        "    return x\n",
        "\n",
        "# Solve the system using Gaussian elimination with partial pivoting\n",
        "solution_pivoting = gauss_elimination_partial_pivoting(A)\n",
        "solution_pivoting\n"
      ],
      "metadata": {
        "colab": {
          "base_uri": "https://localhost:8080/"
        },
        "id": "iRTEoYLDv22e",
        "outputId": "0a09338c-d594-4027-e811-358ad896bd8d"
      },
      "execution_count": 5,
      "outputs": [
        {
          "output_type": "execute_result",
          "data": {
            "text/plain": [
              "array([  3., -13.,   1.])"
            ]
          },
          "metadata": {},
          "execution_count": 5
        }
      ]
    },
    {
      "cell_type": "markdown",
      "source": [
        "6. Assume that you are using a computer with four significant digits with chopping,\n",
        "use Gaussian elimination with partial pivoting to solve"
      ],
      "metadata": {
        "id": "uFfgE8a3v-4a"
      }
    },
    {
      "cell_type": "code",
      "source": [
        "# Redefine the augmented matrix A\n",
        "A = np.array([\n",
        "    [4, 1, -1, -2],\n",
        "    [5, 1, 2, 4],\n",
        "    [6, 1, 1, 6]\n",
        "], dtype=float)\n",
        "\n",
        "def gauss_elimination_partial_pivoting_chop(A, significant_digits=4):\n",
        "    n = len(A)\n",
        "    chop = lambda x: float(f\"{x:.{significant_digits}g}\")  # Function to chop numbers\n",
        "\n",
        "    # Forward elimination with partial pivoting\n",
        "    for i in range(n):\n",
        "        # Partial Pivoting\n",
        "        max_row = np.argmax(np.abs(A[i:n, i])) + i\n",
        "        if i != max_row:\n",
        "            A[[i, max_row]] = A[[max_row, i]]  # Swap rows\n",
        "\n",
        "        # Chop after swapping\n",
        "        A = np.vectorize(chop)(A)\n",
        "\n",
        "        for j in range(i+1, n):\n",
        "            factor = chop(A[j][i] / A[i][i])\n",
        "            for k in range(i, n+1):\n",
        "                A[j][k] = chop(A[j][k] - chop(factor * A[i][k]))\n",
        "\n",
        "    # Back Substitution\n",
        "    x = np.zeros(n)\n",
        "    for i in range(n-1, -1, -1):\n",
        "        x[i] = chop(A[i][-1])\n",
        "        for j in range(i+1, n):\n",
        "            x[i] = chop(x[i] - chop(A[i][j] * x[j]))\n",
        "        x[i] = chop(x[i] / A[i][i])\n",
        "\n",
        "    return x\n",
        "\n",
        "# Solve the system with partial pivoting and chopping\n",
        "solution_pivoting_chop = gauss_elimination_partial_pivoting_chop(A)\n",
        "solution_pivoting_chop\n"
      ],
      "metadata": {
        "colab": {
          "base_uri": "https://localhost:8080/"
        },
        "id": "F3pSjy-Ev92L",
        "outputId": "b9d09ac4-a353-478e-ab9d-724072144cbc"
      },
      "execution_count": 6,
      "outputs": [
        {
          "output_type": "execute_result",
          "data": {
            "text/plain": [
              "array([  3., -13.,   1.])"
            ]
          },
          "metadata": {},
          "execution_count": 6
        }
      ]
    }
  ]
}