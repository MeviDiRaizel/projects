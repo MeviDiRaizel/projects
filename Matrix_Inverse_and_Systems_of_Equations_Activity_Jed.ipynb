{
 "cells": [
  {
   "cell_type": "code",
   "execution_count": 3,
   "metadata": {},
   "outputs": [
    {
     "name": "stdout",
     "output_type": "stream",
     "text": [
      "Determinant of A: 10.000000000000002\n",
      "Inverse of A:\n",
      "[[ 0.6 -0.7]\n",
      " [-0.2  0.4]]\n"
     ]
    }
   ],
   "source": [
    "import numpy as np\n",
    "\n",
    "# Define a 2x2 matrix\n",
    "A = np.array([[4, 7],\n",
    "              [2, 6]])\n",
    "\n",
    "# Check if the matrix is invertible\n",
    "det_A = np.linalg.det(A)\n",
    "print(f\"Determinant of A: {det_A}\")\n",
    "\n",
    "if det_A != 0:\n",
    "    # Calculate the inverse\n",
    "    A_inv = np.linalg.inv(A)\n",
    "    print(\"Inverse of A:\")\n",
    "    print(A_inv)\n",
    "else:\n",
    "    print(\"Matrix A is not invertible.\")"
   ]
  },
  {
   "cell_type": "code",
   "execution_count": 4,
   "metadata": {},
   "outputs": [
    {
     "name": "stdout",
     "output_type": "stream",
     "text": [
      "Solution for [x, y]:\n",
      "[0.4 1.2]\n"
     ]
    }
   ],
   "source": [
    "# Coefficient matrix\n",
    "A = np.array([[4, 7],\n",
    "              [2, 6]])\n",
    "\n",
    "# Constant vector\n",
    "b = np.array([10, 8])\n",
    "\n",
    "# Solve for x using matrix inverse\n",
    "if np.linalg.det(A) != 0:\n",
    "    x = np.linalg.inv(A).dot(b)\n",
    "    print(\"Solution for [x, y]:\")\n",
    "    print(x)\n",
    "else:\n",
    "    print(\"Matrix A is not invertible, no unique solution.\")\n",
    "\n"
   ]
  },
  {
   "cell_type": "code",
   "execution_count": null,
   "metadata": {},
   "outputs": [
    {
     "name": "stdout",
     "output_type": "stream",
     "text": [
      "Determinant of a: 7.000000000000001\n",
      "Inverse of a:\n",
      "[[ 0.71428571 -0.57142857]\n",
      " [-0.28571429  0.42857143]]\n"
     ]
    }
   ],
   "source": [
    "#problem 1\n",
    "\n",
    "# Define the new 2x2 matrix\n",
    "a = np.array([[3, 4],\n",
    "              [2, 5]])\n",
    "\n",
    "# Check if the matrix is invertible\n",
    "det_a = np.linalg.det(a)\n",
    "print(f\"Determinant of a: {det_a}\")\n",
    "\n",
    "if det_a != 0:\n",
    "    # Calculate the inverse\n",
    "    a_inv = np.linalg.inv(a)\n",
    "    print(\"Inverse of a:\")\n",
    "    print(a_inv)\n",
    "else:\n",
    "    print(\"Matrix a is not invertible.\")"
   ]
  },
  {
   "cell_type": "code",
   "execution_count": null,
   "metadata": {},
   "outputs": [
    {
     "name": "stdout",
     "output_type": "stream",
     "text": [
      "Solution for [x, y]:\n",
      "[1.57142857 1.28571429]\n"
     ]
    }
   ],
   "source": [
    "#problem 2\n",
    "\n",
    "# Coefficient matrix\n",
    "A_new = np.array([[2, 3],\n",
    "                  [4, -1]])\n",
    "\n",
    "# Constant vector\n",
    "b_new = np.array([7, 5])\n",
    "\n",
    "# Solve for x using matrix inverse\n",
    "if np.linalg.det(A_new) != 0:\n",
    "    x_new = np.linalg.inv(A_new).dot(b_new)\n",
    "    print(\"Solution for [x, y]:\")\n",
    "    print(x_new)\n",
    "else:\n",
    "    print(\"Matrix A_new is not invertible, no unique solution.\")"
   ]
  },
  {
   "cell_type": "code",
   "execution_count": null,
   "metadata": {},
   "outputs": [
    {
     "name": "stdout",
     "output_type": "stream",
     "text": [
      "Determinant of A_3x3: 0.9999999999999964\n",
      "Inverse of A_3x3:\n",
      "[[-24.  18.   5.]\n",
      " [ 20. -15.  -4.]\n",
      " [ -5.   4.   1.]]\n"
     ]
    }
   ],
   "source": [
    "#problem 3\n",
    "\n",
    "# Define the 3x3 matrix\n",
    "A_3x3 = np.array([[1, 2, 3],\n",
    "                  [0, 1, 4],\n",
    "                  [5, 6, 0]])\n",
    "\n",
    "# Check if the matrix is invertible\n",
    "det_A_3x3 = np.linalg.det(A_3x3)\n",
    "print(f\"Determinant of A_3x3: {det_A_3x3}\")\n",
    "\n",
    "if det_A_3x3 != 0:\n",
    "    # Calculate the inverse\n",
    "    A_3x3_inv = np.linalg.inv(A_3x3)\n",
    "    print(\"Inverse of A_3x3:\")\n",
    "    print(A_3x3_inv)\n",
    "else:\n",
    "    print(\"Matrix A_3x3 is not invertible.\")"
   ]
  },
  {
   "cell_type": "code",
   "execution_count": null,
   "metadata": {},
   "outputs": [
    {
     "name": "stdout",
     "output_type": "stream",
     "text": [
      "Determinant of A_system: 18.999999999999996\n",
      "Solution for [x, y, z]:\n",
      "[10.84210526 -5.21052632  0.36842105]\n"
     ]
    }
   ],
   "source": [
    "#problem 4\n",
    "# Coefficient matrix\n",
    "A_system = np.array([[1, 1, 1],\n",
    "                     [2, 5, 1],\n",
    "                     [2, 3, 8]])\n",
    "\n",
    "# Constant vector\n",
    "B_system = np.array([6, -4, 9])\n",
    "\n",
    "# Check if the matrix is invertible\n",
    "det_A_system = np.linalg.det(A_system)\n",
    "print(f\"Determinant of A_system: {det_A_system}\")\n",
    "\n",
    "if det_A_system != 0:\n",
    "    # Calculate the inverse\n",
    "    A_system_inv = np.linalg.inv(A_system)\n",
    "    # Solve for X using matrix inverse\n",
    "    X_solution = A_system_inv.dot(B_system)\n",
    "    print(\"Solution for [x, y, z]:\")\n",
    "    print(X_solution)\n",
    "else:\n",
    "    print(\"Matrix A_system is not invertible, no unique solution.\")"
   ]
  },
  {
   "cell_type": "code",
   "execution_count": null,
   "metadata": {},
   "outputs": [
    {
     "name": "stdout",
     "output_type": "stream",
     "text": [
      "Determinant of A_new_system: -5.000000000000002\n",
      "Solution for [x, y, z]:\n",
      "[  2.6   5.4 -14.4]\n"
     ]
    }
   ],
   "source": [
    "#problem 5\n",
    "# Define the coefficient matrix A and the constant vector b\n",
    "A_new_system = np.array([[4, -1, 0],\n",
    "                         [3, 5, 2],\n",
    "                         [-2, 4, 1]])\n",
    "\n",
    "b_new_system = np.array([5, 6, 2])\n",
    "\n",
    "# Check if the matrix is invertible\n",
    "det_A_new_system = np.linalg.det(A_new_system)\n",
    "print(f\"Determinant of A_new_system: {det_A_new_system}\")\n",
    "\n",
    "if det_A_new_system != 0:\n",
    "    # Calculate the inverse\n",
    "    A_new_system_inv = np.linalg.inv(A_new_system)\n",
    "    # Solve for x using matrix inverse\n",
    "    x_new_system = A_new_system_inv.dot(b_new_system)\n",
    "    print(\"Solution for [x, y, z]:\")\n",
    "    print(x_new_system)\n",
    "else:\n",
    "    print(\"Matrix A_new_system is not invertible, no unique solution.\")"
   ]
  },
  {
   "cell_type": "code",
   "execution_count": null,
   "metadata": {},
   "outputs": [
    {
     "name": "stdout",
     "output_type": "stream",
     "text": [
      "Inverse of the matrix:\n",
      "[[-24.  18.   5.]\n",
      " [ 20. -15.  -4.]\n",
      " [ -5.   4.   1.]]\n"
     ]
    }
   ],
   "source": [
    "#bonus challenge\n",
    "def check_invertible(matrix):\n",
    "    # Calculate the determinant of the matrix\n",
    "    determinant = np.linalg.det(matrix)\n",
    "    \n",
    "    # Check if the determinant is zero\n",
    "    if determinant == 0:\n",
    "        print(\"The matrix is not invertible.\")\n",
    "        return None\n",
    "    else:\n",
    "        # Calculate the inverse of the matrix\n",
    "        inverse_matrix = np.linalg.inv(matrix)\n",
    "        return inverse_matrix\n",
    "\n",
    "# Example usage:\n",
    "matrix = np.array([[1, 2, 3],\n",
    "                   [0, 1, 4],\n",
    "                   [5, 6, 0]])\n",
    "\n",
    "inverse = check_invertible(matrix)\n",
    "if inverse is not None:\n",
    "    print(\"Inverse of the matrix:\")\n",
    "    print(inverse)"
   ]
  },
  {
   "cell_type": "code",
   "execution_count": null,
   "metadata": {},
   "outputs": [],
   "source": []
  }
 ],
 "metadata": {
  "kernelspec": {
   "display_name": "base",
   "language": "python",
   "name": "python3"
  },
  "language_info": {
   "codemirror_mode": {
    "name": "ipython",
    "version": 3
   },
   "file_extension": ".py",
   "mimetype": "text/x-python",
   "name": "python",
   "nbconvert_exporter": "python",
   "pygments_lexer": "ipython3",
   "version": "3.12.7"
  }
 },
 "nbformat": 4,
 "nbformat_minor": 2
}
