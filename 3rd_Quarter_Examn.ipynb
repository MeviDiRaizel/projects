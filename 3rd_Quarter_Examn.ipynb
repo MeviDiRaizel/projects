{
  "nbformat": 4,
  "nbformat_minor": 0,
  "metadata": {
    "colab": {
      "provenance": []
    },
    "kernelspec": {
      "name": "python3",
      "display_name": "Python 3"
    },
    "language_info": {
      "name": "python"
    }
  },
  "cells": [
    {
      "cell_type": "code",
      "source": [
        "#part 4 p-1\n",
        "# Coefficient matrix A (3x3)\n",
        "A1 = np.array([\n",
        "    [2, 1, -1],\n",
        "    [-1, 3, 2],\n",
        "    [1, -2, 4]\n",
        "])\n",
        "\n",
        "# Constant matrix B (3x1)\n",
        "B1 = np.array([5, 6, 7])\n",
        "\n",
        "# Check if matrix A1 is invertible (determinant should not be zero)\n",
        "det_A1 = np.linalg.det(A1)\n",
        "if det_A1 == 0:\n",
        "    print(\"Matrix A1 is singular and cannot be inverted!\")\n",
        "else:\n",
        "    # Find the inverse of matrix A1\n",
        "    A1_inv = np.linalg.inv(A1)\n",
        "\n",
        "    # Solve for X using the matrix inverse method\n",
        "    X1 = np.dot(A1_inv, B1)\n",
        "\n",
        "    # Output the solution (the values of x1, x2, x3)\n",
        "    print(\"Solution for Problem 1 (Unknowns):\")\n",
        "    print(X1)\n"
      ],
      "metadata": {
        "colab": {
          "base_uri": "https://localhost:8080/"
        },
        "id": "9FpUpOnKbvKu",
        "outputId": "6a3c4d43-43db-4e0b-d5c0-bd35f87ba81f"
      },
      "execution_count": 7,
      "outputs": [
        {
          "output_type": "stream",
          "name": "stdout",
          "text": [
            "Solution for Problem 1 (Unknowns):\n",
            "[2.64102564 1.61538462 1.8974359 ]\n"
          ]
        }
      ]
    },
    {
      "cell_type": "code",
      "source": [
        "#part 4 p-2\n",
        "# Coefficient matrix A (5x5)\n",
        "A2 = np.array([\n",
        "    [5, 3, 1, 1, 0],\n",
        "    [4, 6, 2, 0, 1],\n",
        "    [2, 7, 3, 1, 0],\n",
        "    [1, 2, 4, 5, 0],\n",
        "    [3, 4, 5, 0, 6]\n",
        "])\n",
        "\n",
        "# Constant matrix B (5x1)\n",
        "B2 = np.array([200, 300, 150, 120, 250])\n",
        "\n",
        "# Check if matrix A2 is invertible (determinant should not be zero)\n",
        "det_A2 = np.linalg.det(A2)\n",
        "if det_A2 == 0:\n",
        "    print(\"Matrix A2 is singular and cannot be inverted!\")\n",
        "else:\n",
        "    # Find the inverse of matrix A2\n",
        "    A2_inv = np.linalg.inv(A2)\n",
        "\n",
        "    # Solve for X using the matrix inverse method\n",
        "    X2 = np.dot(A2_inv, B2)\n",
        "\n",
        "    # Output the solution (the values of x1, x2, x3, x4, x5)\n",
        "    print(\"Solution for Problem 2 (Unknowns):\")\n",
        "    print(X2)\n"
      ],
      "metadata": {
        "colab": {
          "base_uri": "https://localhost:8080/"
        },
        "id": "1s2SOE7zbw5N",
        "outputId": "20189d87-e407-491b-8d29-f3dbdea7c41c"
      },
      "execution_count": 10,
      "outputs": [
        {
          "output_type": "stream",
          "name": "stdout",
          "text": [
            "Solution for Problem 2 (Unknowns):\n",
            "[ -23.86666667  137.6        -336.          242.53333333  241.86666667]\n"
          ]
        }
      ]
    },
    {
      "cell_type": "code",
      "source": [
        "#part 4 p-3\n",
        "# Coefficient matrix A (7x7)\n",
        "A3 = np.random.rand(7, 7)\n",
        "\n",
        "# Constant matrix B (7x1)\n",
        "B3 = np.random.rand(7)\n",
        "\n",
        "# Check if matrix A3 is invertible (determinant should not be zero)\n",
        "det_A3 = np.linalg.det(A3)\n",
        "if det_A3 == 0:\n",
        "    print(\"Matrix A3 is singular so it cannot be inverted!\")\n",
        "else:\n",
        "    # Find the inverse of matrix A3\n",
        "    A3_inv = np.linalg.inv(A3)\n",
        "\n",
        "    # Solve for X using the matrix inverse method\n",
        "    X3 = np.dot(A3_inv, B3)\n",
        "\n",
        "    # Output the solution (the values of x1, x2, ..., x7)\n",
        "    print(\"Unknowns:\")\n",
        "    print(X3)\n"
      ],
      "metadata": {
        "colab": {
          "base_uri": "https://localhost:8080/"
        },
        "id": "02MeJnP0cT7K",
        "outputId": "2335971e-06d9-498c-99bc-093652406385"
      },
      "execution_count": 15,
      "outputs": [
        {
          "output_type": "stream",
          "name": "stdout",
          "text": [
            "Unknowns:\n",
            "[-6.35979374  0.64317486  1.91586266  0.17992165  5.79699282  1.7858864\n",
            " -1.69121153]\n"
          ]
        }
      ]
    },
    {
      "cell_type": "code",
      "source": [
        "def solve_random_linear_system():\n",
        "    # Generate a random 5x5\n",
        "    A = np.random.rand(5, 5)\n",
        "\n",
        "    # Generate a random 5x1\n",
        "    B = np.random.rand(5)\n",
        "\n",
        "    # Check if matrix A is invertible (determinant should not be zero)\n",
        "    det_A = np.linalg.det(A)\n",
        "    if det_A == 0:\n",
        "        print(\"Matrix A is singular and cannot be inverted!\")\n",
        "        return None\n",
        "    else:\n",
        "        # Find the inverse of matrix A\n",
        "        A_inv = np.linalg.inv(A)\n",
        "\n",
        "        # Solve for X using the matrix inverse method\n",
        "        X = np.dot(A_inv, B)\n",
        "\n",
        "        print(\"Solution for Problem 4 (Unknowns):\")\n",
        "        print(X)\n",
        "\n",
        "# Example usage\n",
        "solve_random_linear_system()"
      ],
      "metadata": {
        "colab": {
          "base_uri": "https://localhost:8080/"
        },
        "id": "rtXK8bboca0A",
        "outputId": "5d4029ff-fcac-439e-b881-3491d549cb4a"
      },
      "execution_count": 22,
      "outputs": [
        {
          "output_type": "stream",
          "name": "stdout",
          "text": [
            "Solution for Problem 4 (Unknowns):\n",
            "[-0.54144548  0.79433348  0.29588905  0.25379537 -0.12051591]\n"
          ]
        }
      ]
    },
    {
      "cell_type": "code",
      "source": [
        "#part 4 p-5\n",
        "def solve_linear_system(A, B):\n",
        "    # Check if matrix A is invertible (determinant should not be zero)\n",
        "    det_A = np.linalg.det(A)\n",
        "    if det_A == 0:\n",
        "        print(\"Matrix A is singular and cannot be inverted!\")\n",
        "        return None\n",
        "    else:\n",
        "        # Find the inverse of matrix A\n",
        "        A_inv = np.linalg.inv(A)\n",
        "\n",
        "        # Solve for X using the matrix inverse method\n",
        "        X = np.dot(A_inv, B)\n",
        "\n",
        "        # Output the solution (the values of the unknowns)\n",
        "        print(\"Solution (Unknowns):\")\n",
        "        print(X)\n",
        "\n",
        "\n",
        "A1 = np.array([\n",
        "    [2, 1, -1],\n",
        "    [-1, 3, 2],\n",
        "    [1, -2, 4]\n",
        "])\n",
        "B1 = np.array([5, 6, 7])\n",
        "solve_linear_system(A1, B1)\n"
      ],
      "metadata": {
        "colab": {
          "base_uri": "https://localhost:8080/"
        },
        "id": "MyAnaK6fcndy",
        "outputId": "166b706a-3182-4f5c-82f4-113835c8d96d"
      },
      "execution_count": 21,
      "outputs": [
        {
          "output_type": "stream",
          "name": "stdout",
          "text": [
            "Solution (Unknowns):\n",
            "[2.64102564 1.61538462 1.8974359 ]\n"
          ]
        },
        {
          "output_type": "execute_result",
          "data": {
            "text/plain": [
              "array([2.64102564, 1.61538462, 1.8974359 ])"
            ]
          },
          "metadata": {},
          "execution_count": 21
        }
      ]
    }
  ]
}